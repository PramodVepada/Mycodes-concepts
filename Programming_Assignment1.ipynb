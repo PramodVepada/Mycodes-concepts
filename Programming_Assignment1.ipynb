{
  "nbformat": 4,
  "nbformat_minor": 0,
  "metadata": {
    "colab": {
      "provenance": [],
      "authorship_tag": "ABX9TyPoRkxWl7ePYjEKps8Q99Ew",
      "include_colab_link": true
    },
    "kernelspec": {
      "name": "python3",
      "display_name": "Python 3"
    },
    "language_info": {
      "name": "python"
    }
  },
  "cells": [
    {
      "cell_type": "markdown",
      "metadata": {
        "id": "view-in-github",
        "colab_type": "text"
      },
      "source": [
        "<a href=\"https://colab.research.google.com/github/PramodVepada/Mycodes-concepts/blob/master/Programming_Assignment1.ipynb\" target=\"_parent\"><img src=\"https://colab.research.google.com/assets/colab-badge.svg\" alt=\"Open In Colab\"/></a>"
      ]
    },
    {
      "cell_type": "markdown",
      "source": [
        "**1. Write a Python program to print \"Hello Python\"?**"
      ],
      "metadata": {
        "id": "lH4UuBRheqvv"
      }
    },
    {
      "cell_type": "code",
      "execution_count": 1,
      "metadata": {
        "colab": {
          "base_uri": "https://localhost:8080/"
        },
        "id": "0vBxWzeUelmy",
        "outputId": "c453f4d5-eafb-495b-9309-1916985adbed"
      },
      "outputs": [
        {
          "output_type": "stream",
          "name": "stdout",
          "text": [
            "Hello Python\n"
          ]
        }
      ],
      "source": [
        "print('Hello Python')"
      ]
    },
    {
      "cell_type": "markdown",
      "source": [
        "**2. Write a Python program to do arithmetical operations addition and division.?**"
      ],
      "metadata": {
        "id": "lIL_WUSkfC_s"
      }
    },
    {
      "cell_type": "code",
      "source": [
        "a = 2\n",
        "b = 4\n",
        "print(a/b)\n",
        "print(a+b)"
      ],
      "metadata": {
        "colab": {
          "base_uri": "https://localhost:8080/"
        },
        "id": "lf73DXmve1ep",
        "outputId": "01c6dcb8-af95-4e2a-db0e-e7e96b0a081c"
      },
      "execution_count": 3,
      "outputs": [
        {
          "output_type": "stream",
          "name": "stdout",
          "text": [
            "0.5\n",
            "6\n"
          ]
        }
      ]
    },
    {
      "cell_type": "markdown",
      "source": [
        "**3. Write a Python program to find the area of a triangle?**"
      ],
      "metadata": {
        "id": "BHNqxxATfrTF"
      }
    },
    {
      "cell_type": "code",
      "source": [
        "Base = int(input(\"Enter length of base of the triangle : \"))\n",
        "height = int(input(\"Enter perpendicular height of the triangle : \"))\n",
        "print(\"Area of the triangle = %d meter sq.\"%(0.5*Base*height))"
      ],
      "metadata": {
        "colab": {
          "base_uri": "https://localhost:8080/"
        },
        "id": "JbyprNsTflNR",
        "outputId": "124630e8-07cf-4c83-9c38-8d0081d82a8d"
      },
      "execution_count": 6,
      "outputs": [
        {
          "output_type": "stream",
          "name": "stdout",
          "text": [
            "Enter length of base of the triangle : 3\n",
            "Enter perpendicular height of the triangle : 2\n",
            "Area of the triangle = 3 meter sq.\n"
          ]
        }
      ]
    },
    {
      "cell_type": "markdown",
      "source": [
        "**4. Write a Python program to swap two variables?**"
      ],
      "metadata": {
        "id": "eRZ3Y4FchkyL"
      }
    },
    {
      "cell_type": "code",
      "source": [
        "a = 8\n",
        "b = 9\n",
        "print(\"Before swapping value of a is %d and b is %d\"%(a,b))\n",
        "c = a\n",
        "a = b\n",
        "b = c\n",
        "print(\"After swapping value of a is %d and b is %d\"%(a,b))"
      ],
      "metadata": {
        "colab": {
          "base_uri": "https://localhost:8080/"
        },
        "id": "BPytrg6thRiy",
        "outputId": "13ff5fbb-618b-482b-a896-f82542ef0d0a"
      },
      "execution_count": 8,
      "outputs": [
        {
          "output_type": "stream",
          "name": "stdout",
          "text": [
            "Before swapping value of a is 8 and b is 9\n",
            "After swapping value of a is 9 and b is 8\n"
          ]
        }
      ]
    },
    {
      "cell_type": "markdown",
      "source": [
        "**5. Write a Python program to generate a random number?**"
      ],
      "metadata": {
        "id": "1ERI9QVjiYjU"
      }
    },
    {
      "cell_type": "code",
      "source": [
        "from random import *\n",
        "a = randint(1,10)\n",
        "print(a)"
      ],
      "metadata": {
        "colab": {
          "base_uri": "https://localhost:8080/"
        },
        "id": "aauRg7uJiEw6",
        "outputId": "86ccde42-6376-41f6-8d68-6a5d43c19207"
      },
      "execution_count": 12,
      "outputs": [
        {
          "output_type": "stream",
          "name": "stdout",
          "text": [
            "7\n"
          ]
        }
      ]
    },
    {
      "cell_type": "code",
      "source": [],
      "metadata": {
        "id": "wA22OWj9i_9q"
      },
      "execution_count": null,
      "outputs": []
    }
  ]
}